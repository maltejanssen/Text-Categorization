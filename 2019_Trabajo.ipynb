{
 "cells": [
  {
   "cell_type": "markdown",
   "metadata": {},
   "source": [
    "<img style=\"float:left\" width=\"70%\" src=\"pics/escudo_COLOR_1L_DCHA.png\">\n",
    "<img style=\"float:right\" width=\"15%\" src=\"pics/PythonLogo.svg\">\n",
    "<br style=\"clear:both;\">\n",
    "\n",
    "# Minería de datos\n",
    "\n",
    "<h2 style=\"display: inline-block; padding: 4mm; padding-left: 2em; background-color: navy; line-height: 1.3em; color: white; border-radius: 10px;\">Scikit-Learn. Trabajo</h2>\n",
    "\n",
    "## Docentes\n",
    "\n",
    " - José Francisco Diez Pastor"
   ]
  },
  {
   "cell_type": "markdown",
   "metadata": {},
   "source": [
    "<a id=\"index\"></a>\n",
    "## Tabla de contenidos del notebook\n",
    "\n",
    "1. [Descripción de los datos del trabajo](#datos)\n",
    "    - [SFU Spanish](#sfu)\n",
    "    - [BBC English](#bbc)\n",
    "2. [Posibles enfoques](#enfoques)\n",
    "3. [Evaluación de los resultados](#evaluación)\n",
    "4. [Entregable](#entregable)"
   ]
  },
  {
   "cell_type": "markdown",
   "metadata": {},
   "source": [
    "# Descripción de los datos del trabajo. <a id=\"datos\"></a><a href=\"#index\"><i class=\"fa fa-list-alt\" aria-hidden=\"true\"></i></a>"
   ]
  },
  {
   "cell_type": "markdown",
   "metadata": {},
   "source": [
    "El trabajo consistirá en aplicar métodos de minería de datos a dos problemas de clasificación de textos.\n",
    "\n",
    "El trabajo es libre en tanto que la elección de los algoritmos y herramientas es decisión del alumno.\n",
    "\n",
    "Se reportarán unos resultados en validación cruzada y con conjunto de datos de test, para poder comparar los resultados obtenidos por los distintos equipos.\n",
    "\n",
    "### Criterios de evaluación.\n",
    "- Se valorará positivamente la aplicación de multiples técnicas.\n",
    "- Se valorará positivamente la aplicación de técnicas de más sencillas a más sofisticadas, justificando el porque se intenta una nueva técnica, cuales son las decisiones para utilizar una técnica y no otra.\n",
    "- Se valorará positivamente la claridad de los resultados (gráficas, tablas).\n",
    "- Será imprescindible la legalidad en los resultados, los datos de test solo se utilizarán para evaluar el modelo, no para mejorar o afinar los modelos.\n",
    "- Se valorará positivamente la exploración de nuevas bibliotecas, librerías y códigos distintos de los vistos en clase.\n",
    "- Se valorará positivamente obtener unos resultados altos comparados con la media de los equipos."
   ]
  },
  {
   "cell_type": "markdown",
   "metadata": {},
   "source": [
    "----------------\n",
    "\n",
    "Para este trabajo habrá que utilizar 2 conjuntos de datos diferentes.\n",
    "\n",
    "## SFU Spanish. <a id=\"sfu\"></a><a href=\"#index\"><i class=\"fa fa-list-alt\" aria-hidden=\"true\"></i></a>\n",
    "\n",
    "El mismo conjunto de datos utilizado en el tutorial de Bag of Words.\n",
    "\n",
    "Se trata de un conjunto de datos de textos en castellano con 8 categorías y 2 clases.\n",
    "\n",
    "Se abordarán 2 problemas diferentes:\n",
    "- clasificación de categoría.\n",
    "- clasificación entre positiva y negativa."
   ]
  },
  {
   "cell_type": "markdown",
   "metadata": {},
   "source": [
    "## BBC English. <a id=\"bbc\"></a><a href=\"#index\"><i class=\"fa fa-list-alt\" aria-hidden=\"true\"></i></a>\n",
    "\n",
    "Se trata de un conjunto de datos de textos en ingles formado por 2226 ejemplos, pertenecientes a 5 categorías.\n",
    "Son titular y cuerpo de noticias, que se pueden clasificar en: sport, business, tech, entertainment y politics\n",
    "\n",
    "\n",
    "Obtenido desde https://www.kaggle.com/yufengdev/bbc-fulltext-and-category"
   ]
  },
  {
   "cell_type": "markdown",
   "metadata": {},
   "source": [
    "# Posibles enfoques. <a id=\"enfoques\"></a><a href=\"#index\"><i class=\"fa fa-list-alt\" aria-hidden=\"true\"></i></a>\n",
    "\n",
    "Partiendo del tutorial de Bag of Words, se pueden explorar distintas mejoras del algoritmo básico y después pasar a probar técnicas más avanzadas ya sean de las descritas en el propio tutorial o encontradas investigando por la red.\n"
   ]
  },
  {
   "cell_type": "markdown",
   "metadata": {},
   "source": [
    "# Evaluación de los resultados. <a id=\"evaluación\"></a><a href=\"#index\"><i class=\"fa fa-list-alt\" aria-hidden=\"true\"></i></a>\n",
    "\n",
    "Para tratar de hacer una comparación justa entre los trabajos de todos los equipos se van a usar particiones de validación cruzada y train-test que sean iguales, usando siempre la misma semilla aleatoria para hacer dichas particiones.\n",
    "\n",
    "En el caso en el que sea posible se reportarán los resultados de validación cruzada (5 folds) y de train-test.\n",
    "\n",
    "Si alguno de los métodos es muy costoso, se podría reportar solo el resultado con una sola partición train-test. Siendo el tamaño de la partición de test el 30% del total.\n",
    "\n",
    "\n",
    "El método de sklearn **cross_val_score** recibe un clasificador de sklearn, no obstante, para simplicar el proceso y poder utilizar códigos de cualquier biblioteca se puede utilizar **KFold** para generar los datasets divididos con validación cruzada y usar dichos datasets con métodos de cualquier librería.\n",
    "\n",
    "En las tablas y figuras se va a mostrar tasa de acierto (*accuracy*). "
   ]
  },
  {
   "cell_type": "code",
   "execution_count": 21,
   "metadata": {
    "collapsed": true
   },
   "outputs": [],
   "source": [
    "# importamos todas las clases y métodos\n",
    "from SFU_Spanish_Reviews_Loader import *\n",
    "import pandas as pd\n",
    "sfl = SFU_Spanish_Reviews_Loader('corpus')\n",
    "\n",
    "\n",
    "sfu_X,sfu_y,sfu_c = sfl.getData()\n",
    "\n"
   ]
  },
  {
   "cell_type": "code",
   "execution_count": 22,
   "metadata": {
    "collapsed": true
   },
   "outputs": [],
   "source": [
    "bbc_df = pd.read_csv(\"bbc-text.csv\")\n",
    "bbc_X = bbc_df.text\n",
    "bbc_y = bbc_df.category"
   ]
  },
  {
   "cell_type": "code",
   "execution_count": 23,
   "metadata": {},
   "outputs": [
    {
     "name": "stderr",
     "output_type": "stream",
     "text": [
      "/home/jfdpastor/anaconda3/lib/python3.6/site-packages/sklearn/model_selection/_split.py:2026: FutureWarning: From version 0.21, test_size will always complement train_size unless both are specified.\n",
      "  FutureWarning)\n"
     ]
    }
   ],
   "source": [
    "# Divide los datos en entrenamiento y test\n",
    "from sklearn.model_selection import train_test_split\n",
    "\n",
    "'''\n",
    "Usamos la semilla 27 para todos los casos\n",
    "\n",
    "'''\n",
    "# Train test SFU categoria (SFU1)\n",
    "sfu1_X_train, sfu1_X_test, sfu1_y_train, sfu1_y_test = train_test_split(sfu_X, sfu_c, train_size=0.7, random_state=27)\n",
    "# Train test SFU positivo/negativo (SFU2)\n",
    "sfu2_X_train, sfu2_X_test, sfu2_y_train, sfu2_y_test = train_test_split(sfu_X, sfu_y, train_size=0.7,random_state=27)\n",
    "# Train test BBC (BBC)\n",
    "bbc_X_train, bbc_X_test, bbc_y_train, bbc_y_test = train_test_split(bbc_X, bbc_y, train_size=0.7, random_state=27)\n",
    "\n",
    "\n"
   ]
  },
  {
   "cell_type": "code",
   "execution_count": 24,
   "metadata": {},
   "outputs": [
    {
     "name": "stdout",
     "output_type": "stream",
     "text": [
      "KFold(n_splits=5, random_state=27, shuffle=False)\n",
      "TRAIN: [2 3 4 5 6 7 8 9] TEST: [0 1]\n",
      "TRAIN: [0 1 4 5 6 7 8 9] TEST: [2 3]\n",
      "TRAIN: [0 1 2 3 6 7 8 9] TEST: [4 5]\n",
      "TRAIN: [0 1 2 3 4 5 8 9] TEST: [6 7]\n",
      "TRAIN: [0 1 2 3 4 5 6 7] TEST: [8 9]\n"
     ]
    }
   ],
   "source": [
    "# Divide los datos en entrenamiento y test (n veces, usando validación cruzada de 5 folds)\n",
    "\n",
    "from sklearn.model_selection import KFold\n",
    "\n",
    "X = np.array([[1, 2], \n",
    "              [3, 4], \n",
    "              [1, 2], \n",
    "              [3, 4], \n",
    "              [3, 4], \n",
    "              [3, 4], \n",
    "              [3, 4], \n",
    "              [3, 4], \n",
    "              [3, 4], \n",
    "              [3, 4]])\n",
    "\n",
    "y = np.array([1, 2, 3, 4,5,6,7,8,9,10])\n",
    "kf = KFold(n_splits=5, random_state=27)\n",
    "kf.get_n_splits(X)\n",
    "\n",
    "print(kf)  \n",
    "\n",
    "for train_index, test_index in kf.split(X):\n",
    "    print(\"TRAIN:\", train_index, \"TEST:\", test_index)\n",
    "    X_train, X_test = X[train_index], X[test_index]\n",
    "    y_train, y_test = y[train_index], y[test_index]\n",
    "    \n",
    "    # Utilizar los X_train e y_train para entrenar \n",
    "    \n",
    "    # Utilizar los X_test e y_test para evaluar \n",
    "    \n",
    "    # Guardar las tasas de acierto y devolver la media al acabar\n",
    "    "
   ]
  },
  {
   "cell_type": "code",
   "execution_count": null,
   "metadata": {
    "collapsed": true
   },
   "outputs": [],
   "source": [
    "\n",
    "\n"
   ]
  },
  {
   "cell_type": "code",
   "execution_count": null,
   "metadata": {
    "collapsed": true
   },
   "outputs": [],
   "source": []
  },
  {
   "cell_type": "code",
   "execution_count": null,
   "metadata": {
    "collapsed": true
   },
   "outputs": [],
   "source": []
  },
  {
   "cell_type": "markdown",
   "metadata": {},
   "source": [
    "# Entregable. <a id=\"entregable\"></a><a href=\"#index\"><i class=\"fa fa-list-alt\" aria-hidden=\"true\"></i></a>"
   ]
  },
  {
   "cell_type": "markdown",
   "metadata": {},
   "source": [
    "Los entregables serán los siguientes:\n",
    "\n",
    "1. Una tabla de con 3 columnas (SFU categorías, SFU valoración, BBC), con tantas filas como métodos probados.\n",
    "    - Con resultados de Train-test.\n",
    "    - Con resultados de validación cruzada, en el caso en el que sea posible por el tiempo de ejecución.\n",
    "2. Figuras para la tablas anteriores.\n",
    "3. El código necesario para obtener los resultados, las tablas y las figuras.\n",
    "4. Los scripts necesarios para instalar las herramientas adicionales. O link al notebook en colab que permite ejecutar el trabajo.\n",
    "5. Video resumen en youtube, dropbox o similar donde se repase en 5-10 minutos los aspectos más relevantes del trabajo.\n",
    "\n",
    "\n",
    "\n"
   ]
  },
  {
   "cell_type": "code",
   "execution_count": null,
   "metadata": {
    "collapsed": true
   },
   "outputs": [],
   "source": []
  }
 ],
 "metadata": {
  "anaconda-cloud": {},
  "kernelspec": {
   "display_name": "Python 3",
   "language": "python",
   "name": "python3"
  },
  "language_info": {
   "codemirror_mode": {
    "name": "ipython",
    "version": 3
   },
   "file_extension": ".py",
   "mimetype": "text/x-python",
   "name": "python",
   "nbconvert_exporter": "python",
   "pygments_lexer": "ipython3",
   "version": "3.7.1"
  }
 },
 "nbformat": 4,
 "nbformat_minor": 1
}
